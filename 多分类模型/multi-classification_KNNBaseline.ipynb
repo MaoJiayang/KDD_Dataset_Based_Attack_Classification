{
 "cells": [
  {
   "cell_type": "code",
   "execution_count": 1,
   "metadata": {},
   "outputs": [],
   "source": [
    "import pandas as pd\n",
    "import numpy as np\n",
    "from sklearn.neighbors import KNeighborsClassifier\n",
    "from sklearn.metrics import accuracy_score\n",
    "from sklearn.model_selection import train_test_split\n",
    "from imblearn.over_sampling import BorderlineSMOTE"
   ]
  },
  {
   "cell_type": "code",
   "execution_count": 2,
   "metadata": {},
   "outputs": [],
   "source": [
    "#读取数据\n",
    "X_train = pd.read_csv('../preprocessed_data/X_train.csv',header=None).values\n",
    "X_test = pd.read_csv('../preprocessed_data/X_test.csv',header=None).values"
   ]
  },
  {
   "cell_type": "code",
   "execution_count": 3,
   "metadata": {},
   "outputs": [],
   "source": [
    "y_train = pd.read_csv('../preprocessed_data/y_train.csv',header=None)\n",
    "y_test = pd.read_csv('../preprocessed_data/y_test.csv',header=None)"
   ]
  },
  {
   "cell_type": "code",
   "execution_count": 4,
   "metadata": {},
   "outputs": [],
   "source": [
    "DoS = ['apache2','back','land','neptune','mailbomb','pod','processtable','smurf','teardrop','udpstorm','worm']\n",
    "Probe = ['ipsweep','mscan','nmap','portsweep','saint','satan']\n",
    "R2L = ['ftp_write','guess_passwd','httptunnel','imap','multihop','phf','sendmail','snmpgetattack','spy','snmpguess','warezclient','warezmaster','xlock','xsnoop','named']\n",
    "U2R = ['buffer_overflow','loadmodule','perl','ps','rootkit','sqlattack','xterm']"
   ]
  },
  {
   "cell_type": "code",
   "execution_count": 5,
   "metadata": {},
   "outputs": [],
   "source": [
    "#将y_train和y_test中的异常子类映射为四大类\n",
    "y_train = y_train.replace(DoS,'DoS')\n",
    "y_train = y_train.replace(Probe,'Probe')\n",
    "y_train = y_train.replace(R2L,'R2L')\n",
    "y_train = y_train.replace(U2R,'U2R')\n",
    "\n",
    "y_test = y_test.replace(DoS,'DoS')\n",
    "y_test = y_test.replace(Probe,'Probe')\n",
    "y_test = y_test.replace(R2L,'R2L')\n",
    "y_test = y_test.replace(U2R,'U2R')"
   ]
  },
  {
   "cell_type": "code",
   "execution_count": 6,
   "metadata": {},
   "outputs": [
    {
     "name": "stdout",
     "output_type": "stream",
     "text": [
      "normal    67343\n",
      "DoS       45927\n",
      "Probe     11656\n",
      "R2L         995\n",
      "U2R          52\n",
      "Name: 0, dtype: int64\n",
      "normal    9711\n",
      "DoS       7460\n",
      "R2L       2885\n",
      "Probe     2421\n",
      "U2R         67\n",
      "Name: 0, dtype: int64\n"
     ]
    }
   ],
   "source": [
    "#查看各类别样本数量\n",
    "print(y_train[0].value_counts())\n",
    "print(y_test[0].value_counts())\n",
    "#确保每个异常子类都被映射为四大类"
   ]
  },
  {
   "cell_type": "code",
   "execution_count": 7,
   "metadata": {},
   "outputs": [],
   "source": [
    "#对训练集进行随机复制过采样\n",
    "#from imblearn.over_sampling import RandomOverSampler\n",
    "#ros = RandomOverSampler(random_state=42)\n",
    "#X_train, y_train = ros.fit_resample(X_train, y_train)"
   ]
  },
  {
   "cell_type": "code",
   "execution_count": 8,
   "metadata": {},
   "outputs": [],
   "source": [
    "#对训练集进行BorderlineSMOTE随机过采样(2'40\")\n",
    "#borderline_smote = BorderlineSMOTE(random_state=42)\n",
    "#X_train, y_train = borderline_smote.fit_resample(X_train, y_train)\n",
    "#试过了,效果不好"
   ]
  },
  {
   "cell_type": "code",
   "execution_count": 9,
   "metadata": {},
   "outputs": [
    {
     "name": "stdout",
     "output_type": "stream",
     "text": [
      "normal    67343\n",
      "DoS       45927\n",
      "Probe     11656\n",
      "R2L         995\n",
      "U2R          52\n",
      "Name: 0, dtype: int64\n"
     ]
    }
   ],
   "source": [
    "#查看各类别样本数量\n",
    "print(y_train[0].value_counts())"
   ]
  },
  {
   "cell_type": "code",
   "execution_count": 10,
   "metadata": {},
   "outputs": [],
   "source": [
    "#对y_train和y_test使用sklearn的to_categorical函数进行one-hot编码\n",
    "from sklearn.preprocessing import OneHotEncoder\n",
    "#合并y_train和y_test\n",
    "y = np.concatenate((y_train,y_test))\n",
    "enc = OneHotEncoder()\n",
    "y = enc.fit_transform(y.reshape(-1,1)).toarray()\n",
    "y_train = y[:len(y_train)]\n",
    "y_test = y[len(y_train):]"
   ]
  },
  {
   "cell_type": "code",
   "execution_count": 11,
   "metadata": {},
   "outputs": [],
   "source": [
    "#划分验证集\n",
    "X_train, X_val, y_train, y_val = train_test_split(X_train,y_train,test_size=0.2,random_state=42)\n"
   ]
  },
  {
   "cell_type": "code",
   "execution_count": 12,
   "metadata": {},
   "outputs": [
    {
     "data": {
      "text/plain": [
       "KNeighborsClassifier()"
      ]
     },
     "execution_count": 12,
     "metadata": {},
     "output_type": "execute_result"
    }
   ],
   "source": [
    "#创建一个KNN分类器\n",
    "knn_clf = KNeighborsClassifier(n_neighbors=5)\n",
    "#训练KNN分类器\n",
    "knn_clf.fit(X_train, y_train)"
   ]
  },
  {
   "cell_type": "code",
   "execution_count": 13,
   "metadata": {},
   "outputs": [],
   "source": [
    "#在测试集上进行预测\n",
    "y_pred = knn_clf.predict(X_test)"
   ]
  },
  {
   "cell_type": "code",
   "execution_count": 14,
   "metadata": {},
   "outputs": [
    {
     "name": "stdout",
     "output_type": "stream",
     "text": [
      "accuracy_score: 0.7523509581263307\n"
     ]
    }
   ],
   "source": [
    "#计算准确率\n",
    "print('accuracy_score:',accuracy_score(y_test, y_pred))#n=1,acc=0.688;n=2,acc=0.685;n=3,acc=0.6889;n=4,acc=6881;n=5,acc=0.6894"
   ]
  }
 ],
 "metadata": {
  "kernelspec": {
   "display_name": "Python 3",
   "language": "python",
   "name": "python3"
  },
  "language_info": {
   "codemirror_mode": {
    "name": "ipython",
    "version": 3
   },
   "file_extension": ".py",
   "mimetype": "text/x-python",
   "name": "python",
   "nbconvert_exporter": "python",
   "pygments_lexer": "ipython3",
   "version": "3.7.12"
  }
 },
 "nbformat": 4,
 "nbformat_minor": 2
}
