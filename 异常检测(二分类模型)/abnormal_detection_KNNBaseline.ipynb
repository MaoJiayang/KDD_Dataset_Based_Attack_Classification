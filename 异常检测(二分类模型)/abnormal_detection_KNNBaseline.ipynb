{
 "cells": [
  {
   "cell_type": "code",
   "execution_count": 35,
   "metadata": {},
   "outputs": [],
   "source": [
    "import pandas as pd\n",
    "import numpy as np\n",
    "from sklearn.neighbors import KNeighborsClassifier\n",
    "from sklearn.metrics import accuracy_score,precision_score, recall_score, f1_score"
   ]
  },
  {
   "cell_type": "code",
   "execution_count": 25,
   "metadata": {},
   "outputs": [],
   "source": [
    "#读取数据\n",
    "X_train = pd.read_csv('../preprocessed_data/X_train.csv',header=None).values\n",
    "X_test = pd.read_csv('../preprocessed_data/X_test.csv',header=None).values"
   ]
  },
  {
   "cell_type": "code",
   "execution_count": 26,
   "metadata": {},
   "outputs": [],
   "source": [
    "y_train = pd.read_csv('../preprocessed_data/y_train.csv',header=None)\n",
    "y_test = pd.read_csv('../preprocessed_data/y_test.csv',header=None)"
   ]
  },
  {
   "cell_type": "code",
   "execution_count": 27,
   "metadata": {},
   "outputs": [],
   "source": [
    "#对于y_train和y_test,值为'normal'的样本标记为0,其它的样本标记为1\n",
    "y_train = np.where(y_train == 'normal', 0, 1).reshape(-1)\n",
    "y_test = np.where(y_test == 'normal', 0, 1).reshape(-1)"
   ]
  },
  {
   "cell_type": "code",
   "execution_count": 28,
   "metadata": {},
   "outputs": [],
   "source": [
    "#对训练集进行随机复制过采样\n",
    "from imblearn.over_sampling import RandomOverSampler\n",
    "ros = RandomOverSampler(random_state=0)\n",
    "X_train, y_train = ros.fit_resample(X_train, y_train)"
   ]
  },
  {
   "cell_type": "code",
   "execution_count": 29,
   "metadata": {},
   "outputs": [],
   "source": [
    "#创建一个KNN分类器\n",
    "knn_clf = KNeighborsClassifier(n_neighbors=3)#试过1,2,3后选择n_neighbors=3"
   ]
  },
  {
   "cell_type": "code",
   "execution_count": 30,
   "metadata": {},
   "outputs": [
    {
     "data": {
      "text/plain": [
       "KNeighborsClassifier(n_neighbors=3)"
      ]
     },
     "execution_count": 30,
     "metadata": {},
     "output_type": "execute_result"
    }
   ],
   "source": [
    "#训练KNN分类器\n",
    "knn_clf.fit(X_train, y_train)"
   ]
  },
  {
   "cell_type": "code",
   "execution_count": 31,
   "metadata": {},
   "outputs": [],
   "source": [
    "#在测试集上进行预测\n",
    "y_pred = knn_clf.predict(X_test)"
   ]
  },
  {
   "cell_type": "code",
   "execution_count": 36,
   "metadata": {},
   "outputs": [
    {
     "name": "stdout",
     "output_type": "stream",
     "text": [
      "accuracy_score: 0.790542938254081\n",
      "precision_score: 0.9281114747176185\n",
      "recall_score: 0.6851087041221849\n",
      "f1_score: 0.7883080785438894\n"
     ]
    }
   ],
   "source": [
    "#计算准确率,精确率,召回率,F1值\n",
    "print('accuracy_score:',accuracy_score(y_test, y_pred))\n",
    "print('precision_score:',precision_score(y_test, y_pred))\n",
    "print('recall_score:',recall_score(y_test, y_pred))\n",
    "print('f1_score:',f1_score(y_test, y_pred))"
   ]
  }
 ],
 "metadata": {
  "kernelspec": {
   "display_name": "Python 3",
   "language": "python",
   "name": "python3"
  },
  "language_info": {
   "codemirror_mode": {
    "name": "ipython",
    "version": 3
   },
   "file_extension": ".py",
   "mimetype": "text/x-python",
   "name": "python",
   "nbconvert_exporter": "python",
   "pygments_lexer": "ipython3",
   "version": "3.7.12"
  }
 },
 "nbformat": 4,
 "nbformat_minor": 2
}
