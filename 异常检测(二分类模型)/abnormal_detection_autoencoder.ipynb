{
 "cells": [
  {
   "cell_type": "code",
   "execution_count": 10,
   "metadata": {},
   "outputs": [],
   "source": [
    "import pandas as pd\n",
    "import numpy as np\n",
    "from keras.models import Sequential\n",
    "from keras.layers import Dense, Dropout,BatchNormalization\n",
    "from sklearn.metrics import accuracy_score,precision_score, recall_score, f1_score\n",
    "from sklearn.metrics import confusion_matrix\n",
    "from sklearn.model_selection import train_test_split\n",
    "import seaborn as sns\n",
    "import matplotlib.pyplot as plt\n",
    "from scipy.optimize import minimize_scalar#线性搜索\n",
    "import tensorflow as tf\n",
    "from tensorflow import keras\n",
    "from keras.utils.vis_utils import plot_model"
   ]
  },
  {
   "cell_type": "markdown",
   "metadata": {},
   "source": [
    "### 从训练集中又划分了验证集,线性搜索在验证集上进行,搜索得更快了\n",
    "#### 使用了更复杂的结构,比之前的能够提升3-4%的准确和召回"
   ]
  },
  {
   "cell_type": "code",
   "execution_count": 2,
   "metadata": {},
   "outputs": [],
   "source": [
    "#读取数据\n",
    "X_train = pd.read_csv('../preprocessed_data/X_train.csv',header=None).values\n",
    "X_test = pd.read_csv('../preprocessed_data/X_test.csv',header=None).values"
   ]
  },
  {
   "cell_type": "code",
   "execution_count": 3,
   "metadata": {},
   "outputs": [],
   "source": [
    "y_train = pd.read_csv('../preprocessed_data/y_train.csv',header=None)\n",
    "y_test = pd.read_csv('../preprocessed_data/y_test.csv',header=None)"
   ]
  },
  {
   "cell_type": "code",
   "execution_count": 4,
   "metadata": {},
   "outputs": [],
   "source": [
    "#对于y_train和y_test,值为'normal'的样本标记为0,其它的样本标记为1\n",
    "y_train = np.where(y_train == 'normal', 0, 1).reshape(-1)\n",
    "y_test = np.where(y_test == 'normal', 0, 1).reshape(-1)"
   ]
  },
  {
   "cell_type": "code",
   "execution_count": 5,
   "metadata": {},
   "outputs": [],
   "source": [
    "#划分训练集和验证集\n",
    "X_train, X_val, y_train, y_val = train_test_split(X_train, y_train, test_size=0.1, random_state=42)"
   ]
  },
  {
   "cell_type": "code",
   "execution_count": 6,
   "metadata": {},
   "outputs": [],
   "source": [
    "#提取训练集中的正常样本和异常样本\n",
    "X_train_normal = X_train[y_train == 0]\n",
    "X_train_abnormal = X_train[y_train == 1]"
   ]
  },
  {
   "cell_type": "code",
   "execution_count": 7,
   "metadata": {},
   "outputs": [
    {
     "name": "stdout",
     "output_type": "stream",
     "text": [
      "正常样本的个数： 60592\n",
      "异常样本的个数： 52783\n"
     ]
    }
   ],
   "source": [
    "#计数正常样本和异常样本的个数\n",
    "print('正常样本的个数：',X_train_normal.shape[0])\n",
    "print('异常样本的个数：',X_train_abnormal.shape[0])"
   ]
  },
  {
   "cell_type": "code",
   "execution_count": 8,
   "metadata": {},
   "outputs": [
    {
     "name": "stdout",
     "output_type": "stream",
     "text": [
      "WARNING:tensorflow:From /home/nucleon/.local/lib/python3.7/site-packages/tensorflow_core/python/ops/resource_variable_ops.py:1630: calling BaseResourceVariable.__init__ (from tensorflow.python.ops.resource_variable_ops) with constraint is deprecated and will be removed in a future version.\n",
      "Instructions for updating:\n",
      "If using Keras pass *_constraint arguments to layers.\n",
      "Model: \"sequential_1\"\n",
      "_________________________________________________________________\n",
      "Layer (type)                 Output Shape              Param #   \n",
      "=================================================================\n",
      "dense_1 (Dense)              (None, 123)               15252     \n",
      "_________________________________________________________________\n",
      "dense_2 (Dense)              (None, 128)               15872     \n",
      "_________________________________________________________________\n",
      "dense_3 (Dense)              (None, 64)                8256      \n",
      "_________________________________________________________________\n",
      "dense_4 (Dense)              (None, 32)                2080      \n",
      "_________________________________________________________________\n",
      "dense_5 (Dense)              (None, 16)                528       \n",
      "_________________________________________________________________\n",
      "dense_6 (Dense)              (None, 32)                544       \n",
      "_________________________________________________________________\n",
      "dense_7 (Dense)              (None, 64)                2112      \n",
      "_________________________________________________________________\n",
      "dense_8 (Dense)              (None, 128)               8320      \n",
      "_________________________________________________________________\n",
      "dense_9 (Dense)              (None, 123)               15867     \n",
      "=================================================================\n",
      "Total params: 68,831\n",
      "Trainable params: 68,831\n",
      "Non-trainable params: 0\n",
      "_________________________________________________________________\n"
     ]
    }
   ],
   "source": [
    "#构建一个自动编码器\n",
    "autoencoder = Sequential([\n",
    "\n",
    "    Dense(X_train.shape[1], activation='tanh', input_shape=(X_train.shape[1],)),#编码层\n",
    "    Dense(128, activation='tanh'),\n",
    "    Dense(64, activation='tanh'),\n",
    "    Dense(32, activation='tanh'),\n",
    "    Dense(16, activation='tanh'),\n",
    "    #Dense(8, activation='tanh'),\n",
    "\n",
    "    #Dense(16, activation='tanh'),#解码层\n",
    "    Dense(32, activation='tanh'),\n",
    "    Dense(64, activation='tanh'),\n",
    "    Dense(128, activation='tanh'),\n",
    "    Dense(X_train.shape[1], activation='linear'),\n",
    "\n",
    "])\n",
    "#编译模型\n",
    "autoencoder.compile(optimizer='adam', loss='mse')\n",
    "autoencoder.summary()"
   ]
  },
  {
   "cell_type": "code",
   "execution_count": 9,
   "metadata": {},
   "outputs": [
    {
     "name": "stderr",
     "output_type": "stream",
     "text": [
      "2023-09-27 22:47:21.029930: I tensorflow/stream_executor/platform/default/dso_loader.cc:97] Successfully opened dynamic library libdirectml.d6f03b303ac3c4f2eeb8ca631688c9757b361310.so\n",
      "2023-09-27 22:47:21.030090: I tensorflow/stream_executor/platform/default/dso_loader.cc:97] Successfully opened dynamic library libdxcore.so\n",
      "2023-09-27 22:47:21.039731: I tensorflow/stream_executor/platform/default/dso_loader.cc:97] Successfully opened dynamic library libd3d12.so\n",
      "2023-09-27 22:47:23.568170: I tensorflow/core/common_runtime/dml/dml_device_cache.cc:250] DirectML device enumeration: found 1 compatible adapters.\n",
      "2023-09-27 22:47:23.569217: I tensorflow/core/platform/cpu_feature_guard.cc:142] Your CPU supports instructions that this TensorFlow binary was not compiled to use: AVX2 FMA\n",
      "2023-09-27 22:47:23.569932: I tensorflow/core/common_runtime/dml/dml_device_cache.cc:186] DirectML: creating device on adapter 0 (AMD Radeon RX 6600M)\n"
     ]
    },
    {
     "name": "stdout",
     "output_type": "stream",
     "text": [
      "WARNING:tensorflow:From /home/nucleon/.local/lib/python3.7/site-packages/keras/backend/tensorflow_backend.py:422: The name tf.global_variables is deprecated. Please use tf.compat.v1.global_variables instead.\n",
      "\n",
      "Train on 48473 samples, validate on 12119 samples\n",
      "Epoch 1/150\n",
      " - 0s - loss: 0.5243 - val_loss: 0.4275\n",
      "Epoch 2/150\n",
      " - 0s - loss: 0.4377 - val_loss: 0.3829\n",
      "Epoch 3/150\n",
      " - 0s - loss: 0.4004 - val_loss: 0.3510\n",
      "Epoch 4/150\n",
      " - 0s - loss: 0.3716 - val_loss: 0.3246\n",
      "Epoch 5/150\n",
      " - 0s - loss: 0.3488 - val_loss: 0.3056\n",
      "Epoch 6/150\n",
      " - 0s - loss: 0.3334 - val_loss: 0.2943\n",
      "Epoch 7/150\n",
      " - 0s - loss: 0.3212 - val_loss: 0.2822\n",
      "Epoch 8/150\n",
      " - 0s - loss: 0.3103 - val_loss: 0.2735\n",
      "Epoch 9/150\n",
      " - 0s - loss: 0.3012 - val_loss: 0.2636\n",
      "Epoch 10/150\n",
      " - 0s - loss: 0.2932 - val_loss: 0.2558\n",
      "Epoch 11/150\n",
      " - 0s - loss: 0.2864 - val_loss: 0.2497\n",
      "Epoch 12/150\n",
      " - 0s - loss: 0.2795 - val_loss: 0.2429\n",
      "Epoch 13/150\n",
      " - 0s - loss: 0.2727 - val_loss: 0.2362\n",
      "Epoch 14/150\n",
      " - 0s - loss: 0.2671 - val_loss: 0.2301\n",
      "Epoch 15/150\n",
      " - 0s - loss: 0.2606 - val_loss: 0.2231\n",
      "Epoch 16/150\n",
      " - 0s - loss: 0.2558 - val_loss: 0.2175\n",
      "Epoch 17/150\n",
      " - 0s - loss: 0.2491 - val_loss: 0.2112\n",
      "Epoch 18/150\n",
      " - 0s - loss: 0.2436 - val_loss: 0.2073\n",
      "Epoch 19/150\n",
      " - 0s - loss: 0.2397 - val_loss: 0.2005\n",
      "Epoch 20/150\n",
      " - 0s - loss: 0.2346 - val_loss: 0.1967\n",
      "Epoch 21/150\n",
      " - 0s - loss: 0.2299 - val_loss: 0.1919\n",
      "Epoch 22/150\n",
      " - 0s - loss: 0.2258 - val_loss: 0.1908\n",
      "Epoch 23/150\n",
      " - 0s - loss: 0.2225 - val_loss: 0.1835\n",
      "Epoch 24/150\n",
      " - 0s - loss: 0.2179 - val_loss: 0.1802\n",
      "Epoch 25/150\n",
      " - 0s - loss: 0.2145 - val_loss: 0.1775\n",
      "Epoch 26/150\n",
      " - 0s - loss: 0.2112 - val_loss: 0.1718\n",
      "Epoch 27/150\n",
      " - 0s - loss: 0.2084 - val_loss: 0.1693\n",
      "Epoch 28/150\n",
      " - 0s - loss: 0.2041 - val_loss: 0.1649\n",
      "Epoch 29/150\n",
      " - 0s - loss: 0.2012 - val_loss: 0.1630\n",
      "Epoch 30/150\n",
      " - 0s - loss: 0.1979 - val_loss: 0.1583\n",
      "Epoch 31/150\n",
      " - 0s - loss: 0.1945 - val_loss: 0.1555\n",
      "Epoch 32/150\n",
      " - 0s - loss: 0.1944 - val_loss: 0.1529\n",
      "Epoch 33/150\n",
      " - 0s - loss: 0.1900 - val_loss: 0.1498\n",
      "Epoch 34/150\n",
      " - 0s - loss: 0.1867 - val_loss: 0.1466\n",
      "Epoch 35/150\n",
      " - 0s - loss: 0.1840 - val_loss: 0.1440\n",
      "Epoch 36/150\n",
      " - 0s - loss: 0.1817 - val_loss: 0.1421\n",
      "Epoch 37/150\n",
      " - 0s - loss: 0.1797 - val_loss: 0.1395\n",
      "Epoch 38/150\n",
      " - 0s - loss: 0.1776 - val_loss: 0.1373\n",
      "Epoch 39/150\n",
      " - 0s - loss: 0.1750 - val_loss: 0.1369\n",
      "Epoch 40/150\n",
      " - 0s - loss: 0.1736 - val_loss: 0.1323\n",
      "Epoch 41/150\n",
      " - 0s - loss: 0.1713 - val_loss: 0.1306\n",
      "Epoch 42/150\n",
      " - 0s - loss: 0.1691 - val_loss: 0.1279\n",
      "Epoch 43/150\n",
      " - 0s - loss: 0.1673 - val_loss: 0.1271\n",
      "Epoch 44/150\n",
      " - 0s - loss: 0.1656 - val_loss: 0.1251\n",
      "Epoch 45/150\n",
      " - 0s - loss: 0.1649 - val_loss: 0.1225\n",
      "Epoch 46/150\n",
      " - 0s - loss: 0.1620 - val_loss: 0.1204\n",
      "Epoch 47/150\n",
      " - 0s - loss: 0.1601 - val_loss: 0.1195\n",
      "Epoch 48/150\n",
      " - 0s - loss: 0.1594 - val_loss: 0.1172\n",
      "Epoch 49/150\n",
      " - 0s - loss: 0.1572 - val_loss: 0.1154\n",
      "Epoch 50/150\n",
      " - 0s - loss: 0.1564 - val_loss: 0.1145\n",
      "Epoch 51/150\n",
      " - 0s - loss: 0.1542 - val_loss: 0.1121\n",
      "Epoch 52/150\n",
      " - 0s - loss: 0.1525 - val_loss: 0.1106\n",
      "Epoch 53/150\n",
      " - 0s - loss: 0.1510 - val_loss: 0.1093\n",
      "Epoch 54/150\n",
      " - 0s - loss: 0.1508 - val_loss: 0.1077\n",
      "Epoch 55/150\n",
      " - 0s - loss: 0.1484 - val_loss: 0.1064\n",
      "Epoch 56/150\n",
      " - 0s - loss: 0.1468 - val_loss: 0.1048\n",
      "Epoch 57/150\n",
      " - 0s - loss: 0.1459 - val_loss: 0.1079\n",
      "Epoch 58/150\n",
      " - 0s - loss: 0.1453 - val_loss: 0.1023\n",
      "Epoch 59/150\n",
      " - 0s - loss: 0.1429 - val_loss: 0.1006\n",
      "Epoch 60/150\n",
      " - 0s - loss: 0.1417 - val_loss: 0.0996\n",
      "Epoch 61/150\n",
      " - 0s - loss: 0.1409 - val_loss: 0.0991\n",
      "Epoch 62/150\n",
      " - 0s - loss: 0.1399 - val_loss: 0.0969\n",
      "Epoch 63/150\n",
      " - 0s - loss: 0.1381 - val_loss: 0.0959\n",
      "Epoch 64/150\n",
      " - 0s - loss: 0.1377 - val_loss: 0.0959\n",
      "Epoch 65/150\n",
      " - 0s - loss: 0.1364 - val_loss: 0.0941\n",
      "Epoch 66/150\n",
      " - 0s - loss: 0.1348 - val_loss: 0.0925\n",
      "Epoch 67/150\n",
      " - 0s - loss: 0.1344 - val_loss: 0.0917\n",
      "Epoch 68/150\n",
      " - 0s - loss: 0.1329 - val_loss: 0.0908\n",
      "Epoch 69/150\n",
      " - 0s - loss: 0.1327 - val_loss: 0.0896\n",
      "Epoch 70/150\n",
      " - 0s - loss: 0.1308 - val_loss: 0.0884\n",
      "Epoch 71/150\n",
      " - 0s - loss: 0.1299 - val_loss: 0.0875\n",
      "Epoch 72/150\n",
      " - 0s - loss: 0.1291 - val_loss: 0.0886\n",
      "Epoch 73/150\n",
      " - 0s - loss: 0.1283 - val_loss: 0.0858\n",
      "Epoch 74/150\n",
      " - 0s - loss: 0.1270 - val_loss: 0.0851\n",
      "Epoch 75/150\n",
      " - 0s - loss: 0.1262 - val_loss: 0.0840\n",
      "Epoch 76/150\n",
      " - 0s - loss: 0.1254 - val_loss: 0.0838\n",
      "Epoch 77/150\n",
      " - 0s - loss: 0.1249 - val_loss: 0.0829\n",
      "Epoch 78/150\n",
      " - 0s - loss: 0.1240 - val_loss: 0.0813\n",
      "Epoch 79/150\n",
      " - 0s - loss: 0.1226 - val_loss: 0.0808\n",
      "Epoch 80/150\n",
      " - 0s - loss: 0.1220 - val_loss: 0.0802\n",
      "Epoch 81/150\n",
      " - 0s - loss: 0.1222 - val_loss: 0.0797\n",
      "Epoch 82/150\n",
      " - 0s - loss: 0.1202 - val_loss: 0.0783\n",
      "Epoch 83/150\n",
      " - 0s - loss: 0.1193 - val_loss: 0.0781\n",
      "Epoch 84/150\n",
      " - 0s - loss: 0.1193 - val_loss: 0.0791\n",
      "Epoch 85/150\n",
      " - 0s - loss: 0.1186 - val_loss: 0.0767\n",
      "Epoch 86/150\n",
      " - 0s - loss: 0.1172 - val_loss: 0.0757\n",
      "Epoch 87/150\n",
      " - 0s - loss: 0.1176 - val_loss: 0.0762\n",
      "Epoch 88/150\n",
      " - 0s - loss: 0.1163 - val_loss: 0.0751\n",
      "Epoch 89/150\n",
      " - 0s - loss: 0.1153 - val_loss: 0.0745\n",
      "Epoch 90/150\n",
      " - 0s - loss: 0.1148 - val_loss: 0.0737\n",
      "Epoch 91/150\n",
      " - 0s - loss: 0.1139 - val_loss: 0.0729\n",
      "Epoch 92/150\n",
      " - 0s - loss: 0.1142 - val_loss: 0.0723\n",
      "Epoch 93/150\n",
      " - 0s - loss: 0.1125 - val_loss: 0.0717\n",
      "Epoch 94/150\n",
      " - 0s - loss: 0.1118 - val_loss: 0.0716\n",
      "Epoch 95/150\n",
      " - 0s - loss: 0.1116 - val_loss: 0.0703\n",
      "Epoch 96/150\n",
      " - 0s - loss: 0.1104 - val_loss: 0.0701\n",
      "Epoch 97/150\n",
      " - 0s - loss: 0.1105 - val_loss: 0.0697\n",
      "Epoch 98/150\n",
      " - 0s - loss: 0.1094 - val_loss: 0.0695\n",
      "Epoch 99/150\n",
      " - 0s - loss: 0.1090 - val_loss: 0.0687\n",
      "Epoch 100/150\n",
      " - 0s - loss: 0.1080 - val_loss: 0.0679\n",
      "Epoch 101/150\n",
      " - 0s - loss: 0.1073 - val_loss: 0.0672\n",
      "Epoch 102/150\n",
      " - 0s - loss: 0.1080 - val_loss: 0.0678\n",
      "Epoch 103/150\n",
      " - 0s - loss: 0.1068 - val_loss: 0.0663\n",
      "Epoch 104/150\n",
      " - 0s - loss: 0.1056 - val_loss: 0.0661\n",
      "Epoch 105/150\n",
      " - 0s - loss: 0.1050 - val_loss: 0.0652\n",
      "Epoch 106/150\n",
      " - 0s - loss: 0.1049 - val_loss: 0.0650\n",
      "Epoch 107/150\n",
      " - 0s - loss: 0.1041 - val_loss: 0.0642\n",
      "Epoch 108/150\n",
      " - 0s - loss: 0.1033 - val_loss: 0.0640\n",
      "Epoch 109/150\n",
      " - 0s - loss: 0.1028 - val_loss: 0.0640\n",
      "Epoch 110/150\n",
      " - 0s - loss: 0.1027 - val_loss: 0.0638\n",
      "Epoch 111/150\n",
      " - 0s - loss: 0.1020 - val_loss: 0.0632\n",
      "Epoch 112/150\n",
      " - 0s - loss: 0.1017 - val_loss: 0.0627\n",
      "Epoch 113/150\n",
      " - 0s - loss: 0.1011 - val_loss: 0.0618\n",
      "Epoch 114/150\n",
      " - 0s - loss: 0.1002 - val_loss: 0.0614\n",
      "Epoch 115/150\n",
      " - 0s - loss: 0.0997 - val_loss: 0.0610\n",
      "Epoch 116/150\n",
      " - 0s - loss: 0.0991 - val_loss: 0.0604\n",
      "Epoch 117/150\n",
      " - 0s - loss: 0.1001 - val_loss: 0.0617\n",
      "Epoch 118/150\n",
      " - 0s - loss: 0.0986 - val_loss: 0.0597\n",
      "Epoch 119/150\n",
      " - 0s - loss: 0.0975 - val_loss: 0.0590\n",
      "Epoch 120/150\n",
      " - 0s - loss: 0.0973 - val_loss: 0.0594\n",
      "Epoch 121/150\n",
      " - 0s - loss: 0.0969 - val_loss: 0.0587\n",
      "Epoch 122/150\n",
      " - 0s - loss: 0.0963 - val_loss: 0.0576\n",
      "Epoch 123/150\n",
      " - 0s - loss: 0.0956 - val_loss: 0.0575\n",
      "Epoch 124/150\n",
      " - 0s - loss: 0.0953 - val_loss: 0.0578\n",
      "Epoch 125/150\n",
      " - 0s - loss: 0.0949 - val_loss: 0.0567\n",
      "Epoch 126/150\n",
      " - 0s - loss: 0.0942 - val_loss: 0.0567\n",
      "Epoch 127/150\n",
      " - 0s - loss: 0.0945 - val_loss: 0.0563\n",
      "Epoch 128/150\n",
      " - 0s - loss: 0.0934 - val_loss: 0.0559\n",
      "Epoch 129/150\n",
      " - 0s - loss: 0.0936 - val_loss: 0.0565\n",
      "Epoch 130/150\n",
      " - 0s - loss: 0.0929 - val_loss: 0.0551\n",
      "Epoch 131/150\n",
      " - 0s - loss: 0.0921 - val_loss: 0.0550\n",
      "Epoch 132/150\n",
      " - 0s - loss: 0.0915 - val_loss: 0.0542\n",
      "Epoch 133/150\n",
      " - 0s - loss: 0.0912 - val_loss: 0.0550\n",
      "Epoch 134/150\n",
      " - 0s - loss: 0.0915 - val_loss: 0.0543\n",
      "Epoch 135/150\n",
      " - 0s - loss: 0.0907 - val_loss: 0.0535\n",
      "Epoch 136/150\n",
      " - 0s - loss: 0.0900 - val_loss: 0.0530\n",
      "Epoch 137/150\n",
      " - 0s - loss: 0.0897 - val_loss: 0.0536\n",
      "Epoch 138/150\n",
      " - 0s - loss: 0.0892 - val_loss: 0.0523\n",
      "Epoch 139/150\n",
      " - 0s - loss: 0.0888 - val_loss: 0.0521\n",
      "Epoch 140/150\n",
      " - 0s - loss: 0.0884 - val_loss: 0.0518\n",
      "Epoch 141/150\n",
      " - 0s - loss: 0.0881 - val_loss: 0.0515\n",
      "Epoch 142/150\n",
      " - 0s - loss: 0.0877 - val_loss: 0.0516\n",
      "Epoch 143/150\n",
      " - 0s - loss: 0.0873 - val_loss: 0.0508\n",
      "Epoch 144/150\n",
      " - 0s - loss: 0.0869 - val_loss: 0.0512\n",
      "Epoch 145/150\n",
      " - 0s - loss: 0.0862 - val_loss: 0.0499\n",
      "Epoch 146/150\n",
      " - 0s - loss: 0.0860 - val_loss: 0.0506\n",
      "Epoch 147/150\n",
      " - 0s - loss: 0.0861 - val_loss: 0.0506\n",
      "Epoch 148/150\n",
      " - 0s - loss: 0.0856 - val_loss: 0.0501\n",
      "Epoch 149/150\n",
      " - 0s - loss: 0.0851 - val_loss: 0.0492\n",
      "Epoch 150/150\n",
      " - 0s - loss: 0.0847 - val_loss: 0.0499\n"
     ]
    }
   ],
   "source": [
    "#训练模型\n",
    "history = autoencoder.fit(X_train_normal, X_train_normal, epochs = 150, batch_size = 2048, validation_split=0.2,verbose=2)\n",
    "#这里迭代15次，每次的batch_size为256\n",
    "#备选暴力参数：epochs = 150, batch_size = 2048"
   ]
  },
  {
   "cell_type": "code",
   "execution_count": null,
   "metadata": {},
   "outputs": [
    {
     "data": {
      "image/png": "[encoded data removed]",
      "text/plain": [
       "<Figure size 640x480 with 1 Axes>"
      ]
     },
     "metadata": {},
     "output_type": "display_data"
    }
   ],
   "source": [
    "import matplotlib.pyplot as plt\n",
    "# 绘制损失值变化曲线\n",
    "plt.plot(history.history['val_loss'])\n",
    "plt.title('Model Loss')\n",
    "plt.xlabel('Epoch')\n",
    "plt.ylabel('Loss')\n",
    "plt.show()"
   ]
  },
  {
   "cell_type": "code",
   "execution_count": null,
   "metadata": {},
   "outputs": [],
   "source": [
    "#使用自动编码器重建训练集\n",
    "X_train_normal_pred = autoencoder.predict(X_train_normal)\n",
    "# 对每个样本计算重建误差形成一个向量\n",
    "reconstruction_errors = np.mean(np.square(X_train_normal - X_train_normal_pred), axis=1)"
   ]
  },
  {
   "cell_type": "code",
   "execution_count": null,
   "metadata": {},
   "outputs": [
    {
     "data": {
      "image/png": "[encoded data removed]",
      "text/plain": [
       "<Figure size 640x480 with 1 Axes>"
      ]
     },
     "metadata": {},
     "output_type": "display_data"
    }
   ],
   "source": [
    "# 对误差列表中的数绘制直方图\n",
    "plt.hist(reconstruction_errors, bins=100, \n",
    "         range = (round(np.percentile(reconstruction_errors, 5), 2), round(np.percentile(reconstruction_errors, 90), 5)),#显示5%~90%的数据\n",
    "         color = 'green')\n",
    "plt.xlabel('Train Reconstruction Errors')\n",
    "plt.ylabel('Frequency')\n",
    "plt.ylim(top=14000)\n",
    "# 去掉右上边框\n",
    "ax = plt.gca()\n",
    "ax.spines['top'].set_visible(False)\n",
    "ax.spines['right'].set_visible(False)\n",
    "# 放置重建误差的范围\n",
    "plt.text(0.718, 0.202, \n",
    "         f'99%Error Range:\\n{round(np.min(reconstruction_errors), 5)}~{round(np.percentile(reconstruction_errors, 99), 5)}',\n",
    "         fontsize = 8,\n",
    "         transform = ax.transAxes)\n",
    "plt.show()"
   ]
  },
  {
   "cell_type": "markdown",
   "metadata": {},
   "source": [
    "def cheat(x):#这是一个作弊的函数,使用测试集,从这里我们可以得到能够优化的上限\n",
    "    predictions = autoencoder.predict(X_test)\n",
    "    errors = np.mean(np.power(X_test - predictions, 2), axis=1)  # 计算重构误差\n",
    "    anomalies = errors > x  # 根据重构误差判断是否为异常样本\n",
    "    return(-accuracy_score(y_test, anomalies))#化为最小化问题\n",
    "res = minimize_scalar(cheat, bounds=(0.0, 1.0), method='bounded')#30\"\n",
    "print('理论最大值:', -res.fun)\n",
    "print('最大值所在的位置:', res.x)"
   ]
  },
  {
   "cell_type": "code",
   "execution_count": null,
   "metadata": {},
   "outputs": [
    {
     "name": "stdout",
     "output_type": "stream",
     "text": [
      "验证集最大F1分数: 0.9746271215498028\n",
      "最大值所在的位置: 0.11470970416357096\n"
     ]
    }
   ],
   "source": [
    "def fun(x):#定义目标函数\n",
    "    predictions = autoencoder.predict(X_val)\n",
    "    errors = np.mean(np.power(X_val - predictions, 2), axis=1)  # 计算重构误差\n",
    "    anomalies = errors > x  # 根据重构误差判断是否为异常样本\n",
    "    return(-f1_score(y_val, anomalies))#化为最小化问题\n",
    "res = minimize_scalar(fun, bounds=(0.0, 1.0), method='bounded')#13\"\n",
    "print('验证集最大F1分数:', -res.fun)\n",
    "print('最大值所在的位置:', res.x)"
   ]
  },
  {
   "cell_type": "code",
   "execution_count": null,
   "metadata": {},
   "outputs": [
    {
     "name": "stdout",
     "output_type": "stream",
     "text": [
      "测试集上的准确率为： 0.8906582682753726\n",
      "测试集上的精确率为： 0.9324324324324325\n",
      "测试集上的召回率为： 0.8710356113145796\n",
      "测试集上的F1值为： 0.9006889327585513\n"
     ]
    }
   ],
   "source": [
    "#使用res.x作为最佳重构误差对测试集进行异常检测\n",
    "predictions = autoencoder.predict(X_test)\n",
    "errors = np.mean(np.power(X_test - predictions, 2), axis=1)  # 计算重构误差\n",
    "anomalies = errors > res.x  # 根据重构误差判断是否为异常样本\n",
    "#计算测试集上的精确率、召回率和F1值\n",
    "accuracy = accuracy_score(y_test, anomalies)\n",
    "precision = precision_score(y_test, anomalies)\n",
    "recall = recall_score(y_test, anomalies)\n",
    "f1 = f1_score(y_test, anomalies)\n",
    "print('测试集上的准确率为：',accuracy)\n",
    "print('测试集上的精确率为：',precision)\n",
    "print('测试集上的召回率为：',recall)\n",
    "print('测试集上的F1值为：',f1)\n"
   ]
  },
  {
   "cell_type": "code",
   "execution_count": null,
   "metadata": {},
   "outputs": [
    {
     "data": {
      "image/png": "[encoded data removed]",
      "text/plain": [
       "<Figure size 640x480 with 2 Axes>"
      ]
     },
     "metadata": {},
     "output_type": "display_data"
    }
   ],
   "source": [
    "#绘制混淆矩阵\n",
    "cm = confusion_matrix(y_test, anomalies)\n",
    "sns.heatmap(cm, annot=True, fmt='d', cmap=plt.cm.Greens, xticklabels=['normal', 'abnormal'], yticklabels=['normal', 'abnormal'])\n",
    "plt.xlabel('Predicted Label')\n",
    "plt.ylabel('True Label')\n",
    "plt.show()"
   ]
  },
  {
   "cell_type": "code",
   "execution_count": null,
   "metadata": {},
   "outputs": [
    {
     "name": "stdout",
     "output_type": "stream",
     "text": [
      "测试集上的准确率为： 0.9086231369765791\n",
      "测试集上的精确率为： 0.9304035157810627\n",
      "测试集上的召回率为： 0.9073482428115016\n",
      "测试集上的F1值为： 0.9187312608489822\n"
     ]
    }
   ],
   "source": [
    "#使用以往搜索得出的经验常数作为最佳重构误差对测试集进行异常检测\n",
    "predictions = autoencoder.predict(X_test)\n",
    "errors = np.mean(np.power(X_test - predictions, 2), axis=1)  # 计算重构误差\n",
    "anomalies = errors > 0.0911  # 根据重构误差判断是否为异常样本\n",
    "#计算测试集上的精确率、召回率和F1值\n",
    "accuracy = accuracy_score(y_test, anomalies)\n",
    "precision = precision_score(y_test, anomalies)\n",
    "recall = recall_score(y_test, anomalies)\n",
    "f1 = f1_score(y_test, anomalies)\n",
    "print('测试集上的准确率为：',accuracy)\n",
    "print('测试集上的精确率为：',precision)\n",
    "print('测试集上的召回率为：',recall)\n",
    "print('测试集上的F1值为：',f1)"
   ]
  },
  {
   "cell_type": "code",
   "execution_count": null,
   "metadata": {},
   "outputs": [
    {
     "data": {
      "image/png": "[encoded data removed]",
      "text/plain": [
       "<Figure size 640x480 with 2 Axes>"
      ]
     },
     "metadata": {},
     "output_type": "display_data"
    }
   ],
   "source": [
    "#绘制混淆矩阵\n",
    "cm = confusion_matrix(y_test, anomalies)\n",
    "sns.heatmap(cm, annot=True, fmt='d', cmap=plt.cm.Greens, xticklabels=['normal', 'abnormal'], yticklabels=['normal', 'abnormal'])\n",
    "plt.xlabel('Predicted Label')\n",
    "plt.ylabel('True Label')\n",
    "plt.show()"
   ]
  },
  {
   "cell_type": "code",
   "execution_count": null,
   "metadata": {},
   "outputs": [],
   "source": [
    "#导出模型,并记录最佳重构误差\n",
    "#autoencoder.save(f'autoencoder_{res.x}_{accuracy}.keras')"
   ]
  }
 ],
 "metadata": {
  "kernelspec": {
   "display_name": "Python 3",
   "language": "python",
   "name": "python3"
  },
  "language_info": {
   "codemirror_mode": {
    "name": "ipython",
    "version": 3
   },
   "file_extension": ".py",
   "mimetype": "text/x-python",
   "name": "python",
   "nbconvert_exporter": "python",
   "pygments_lexer": "ipython3",
   "version": "3.7.12"
  }
 },
 "nbformat": 4,
 "nbformat_minor": 2
}
